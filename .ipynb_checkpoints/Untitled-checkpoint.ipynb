{
 "cells": [
  {
   "cell_type": "code",
   "execution_count": 80,
   "metadata": {},
   "outputs": [],
   "source": [
    "from random import randint\n",
    "from math import log\n",
    "\n",
    "import numpy as np\n",
    "import matplotlib.pyplot as plt\n",
    "from mpl_toolkits.mplot3d import Axes3D"
   ]
  },
  {
   "cell_type": "code",
   "execution_count": 2,
   "metadata": {},
   "outputs": [
    {
     "name": "stdout",
     "output_type": "stream",
     "text": [
      "[0.51577286 0.7906449  0.68528857 0.94600895 0.53168959 0.11885328\n",
      " 0.60034479 0.09096169 0.35503332 0.20449258 0.81283253 0.25285375\n",
      " 0.52702495 0.2602056  0.24409592 0.38391351 0.76724359 0.46112108\n",
      " 0.74668463 0.05248554]\n",
      "[ 0.64141939 -0.27065086 -0.09718941  0.12309503 -0.14155254  1.5484609\n",
      " -0.20741433  1.2979415   1.4646439   1.8482207  -0.43623502  2.1620529\n",
      " -0.01881254  1.1189221   1.5961357   1.2558797  -0.52438752  0.53492122\n",
      " -0.52943408  1.1727594 ]\n"
     ]
    }
   ],
   "source": [
    "# Load problem files\n",
    "x_test = np.load('data/q2xTest.npy')\n",
    "x_train = np.load('data/q2xTrain.npy')\n",
    "y_test = np.load('data/q2yTest.npy')\n",
    "y_train = np.load('data/q2yTrain.npy')\n",
    "\n",
    "print(x_train)\n",
    "print(y_train)"
   ]
  },
  {
   "cell_type": "code",
   "execution_count": 3,
   "metadata": {},
   "outputs": [
    {
     "data": {
      "image/png": "[encoded data removed]",
      "text/plain": [
       "<Figure size 432x288 with 1 Axes>"
      ]
     },
     "metadata": {
      "needs_background": "light"
     },
     "output_type": "display_data"
    }
   ],
   "source": [
    "# Visual the training data\n",
    "fig1 = plt.scatter(x_train, y_train)"
   ]
  },
  {
   "cell_type": "code",
   "execution_count": 4,
   "metadata": {},
   "outputs": [],
   "source": [
    "# Define basis functions\n",
    "def poly_basis(x, j):\n",
    "    return x ** j"
   ]
  },
  {
   "cell_type": "code",
   "execution_count": 5,
   "metadata": {},
   "outputs": [
    {
     "data": {
      "image/png": "[encoded data removed]",
      "text/plain": [
       "<Figure size 432x288 with 1 Axes>"
      ]
     },
     "metadata": {
      "needs_background": "light"
     },
     "output_type": "display_data"
    }
   ],
   "source": [
    "# Define generic linear equation\n",
    "def lin_eq(x, W, basis):\n",
    "    \"\"\"Compute the result of the linear equation with given weights.\"\"\"\n",
    "    eq_sum = 0\n",
    "    for i, w in enumerate(W):\n",
    "        if i == 0:\n",
    "            eq_sum += w\n",
    "        else:\n",
    "            eq_sum += w * basis(x, i)\n",
    "    return eq_sum\n",
    "\n",
    "# Test linear equation\n",
    "lin_test_x = list(range(-10, 11))\n",
    "lin_test_y = [lin_eq(x, [0.0, 0.0, 1.0], poly_basis) for x in lin_test_x]\n",
    "fig2 = plt.scatter(lin_test_x, lin_test_y)"
   ]
  },
  {
   "cell_type": "code",
   "execution_count": 6,
   "metadata": {},
   "outputs": [],
   "source": [
    "# Define error function\n",
    "def sum_squared_error(data, labels, W, basis, func):\n",
    "    \"\"\"Find the sum squared error using weights w in func.\"\"\"\n",
    "    assert len(data) == len(labels), \"Data and label vectors must be same length\"\n",
    "    \n",
    "    sse = 0\n",
    "    for i in range(len(data)):\n",
    "        x = data[i]\n",
    "        y = labels[i]\n",
    "        func_approx = func(x, W, basis)\n",
    "        error = func_approx - y\n",
    "        sse += error**2\n",
    "        \n",
    "    return sse\n",
    "\n",
    "def mean_squared_error(data, labels, W, basis, func):\n",
    "    \"\"\"Find the sum squared error using weights w in func.\"\"\"\n",
    "    assert len(data) == len(labels), \"Data and label vectors must be same length\"\n",
    "    \n",
    "    sse = 0\n",
    "    for i in range(len(data)):\n",
    "        x = data[i]\n",
    "        y = labels[i]\n",
    "        func_approx = func(x, W, basis)\n",
    "        error = func_approx - y\n",
    "        sse += error**2\n",
    "        \n",
    "    return sse/len(data)"
   ]
  },
  {
   "cell_type": "code",
   "execution_count": 71,
   "metadata": {},
   "outputs": [],
   "source": [
    "# Define linear regression objective function\n",
    "def objective_func(data, labels, W):\n",
    "    return sum_squared_error(data, labels, W, poly_basis, lin_eq)/len(data)"
   ]
  },
  {
   "cell_type": "code",
   "execution_count": 72,
   "metadata": {},
   "outputs": [
    {
     "name": "stdout",
     "output_type": "stream",
     "text": [
      "[[1.         0.51577286]\n",
      " [1.         0.7906449 ]\n",
      " [1.         0.68528857]\n",
      " [1.         0.94600895]\n",
      " [1.         0.53168959]\n",
      " [1.         0.11885328]\n",
      " [1.         0.60034479]\n",
      " [1.         0.09096169]\n",
      " [1.         0.35503332]\n",
      " [1.         0.20449258]\n",
      " [1.         0.81283253]\n",
      " [1.         0.25285375]\n",
      " [1.         0.52702495]\n",
      " [1.         0.2602056 ]\n",
      " [1.         0.24409592]\n",
      " [1.         0.38391351]\n",
      " [1.         0.76724359]\n",
      " [1.         0.46112108]\n",
      " [1.         0.74668463]\n",
      " [1.         0.05248554]]\n"
     ]
    }
   ],
   "source": [
    "def gen_basis_matrix(data, M):\n",
    "    basis_matrix = np.zeros(shape=(len(data), M))\n",
    "    for di, d in enumerate(data):\n",
    "        for m in range(M):\n",
    "            basis_matrix[di, m] = poly_basis(d, m)\n",
    "    return basis_matrix\n",
    "            \n",
    "x_train_basis_mat = gen_basis_matrix(x_train, M=2)\n",
    "print(x_train_basis_mat)"
   ]
  },
  {
   "cell_type": "code",
   "execution_count": 73,
   "metadata": {},
   "outputs": [],
   "source": [
    "def gen_lin_regress_grad_vec(data, labels, W, basis):\n",
    "    M = len(W)\n",
    "    basis_matrix = gen_basis_matrix(data, M)\n",
    "    A = np.dot(basis_matrix, W)\n",
    "    E = A - labels\n",
    "    grad_mat = np.multiply(E.reshape(len(E), 1), basis_matrix)\n",
    "    grad_vec = np.sum(grad_mat, axis=0)\n",
    "    return grad_vec\n",
    "    "
   ]
  },
  {
   "cell_type": "code",
   "execution_count": 100,
   "metadata": {},
   "outputs": [
    {
     "name": "stdout",
     "output_type": "stream",
     "text": [
      "Batch Gradient Descent Weights: [ 1.886671   -2.70243125]\n",
      "Score: 0.1997726774501251 @ 290\n"
     ]
    }
   ],
   "source": [
    "def batch_grad_descent(data, labels, W=None, mu=0.01, record_fitting=False):\n",
    "    if W is None:\n",
    "#         W = np.random.random_sample((2,))\n",
    "        W = np.zeros((2,))\n",
    "    \n",
    "    # Begin batch gradient descent\n",
    "    stable_counter = 0\n",
    "    converge_thresh = 0.2\n",
    "    i = 0\n",
    "    training_record = []\n",
    "    while stable_counter < 10 and i < 500:\n",
    "        W = W - mu*gen_lin_regress_grad_vec(x_train, y_train, W, poly_basis)\n",
    "        objective_score = objective_func(data, labels, W)\n",
    "        if objective_score < 0.2:\n",
    "            stable_counter += 1\n",
    "        else:\n",
    "            stable_counter = 0\n",
    "#         print(i, objective_score)\n",
    "        training_record.append((i, W[0], W[1], objective_score))\n",
    "        \n",
    "        if record_fitting and i%5==0:\n",
    "            predicted_y_vals = [lin_eq(x, W, poly_basis) for x in x_train]\n",
    "            fig, ax = plt.subplots(1,1)\n",
    "            ax.scatter(x_train, y_train, c='blue', marker='o')\n",
    "            ax.scatter(x_train, predicted_y_vals, c='red', marker='x')\n",
    "            fig.savefig(f\"./training_images/batch/batch_grad_descent_{i}.png\")\n",
    "            plt.close()\n",
    "        i += 1\n",
    "    return (W, objective_score, i, training_record)\n",
    "\n",
    "W, objective_score, iters, record = batch_grad_descent(x_train, y_train, record_fitting=True)\n",
    "with open(\"./batch_grad_record.csv\", \"w\") as f:\n",
    "    for r in record:\n",
    "        f.write(f\"{r[0]}, {r[1]}, {r[2]}, {r[3]}\\n\")\n",
    "print(f\"Batch Gradient Descent Weights: {W}\\nScore: {objective_score} @ {iters}\")"
   ]
  },
  {
   "cell_type": "code",
   "execution_count": 101,
   "metadata": {},
   "outputs": [
    {
     "name": "stdout",
     "output_type": "stream",
     "text": [
      "[-0.06727891 -0.03470063]\n"
     ]
    }
   ],
   "source": [
    "def compute_single_grad(x, y, W):\n",
    "    phi_x = np.array([poly_basis(x, i) for i in range(len(W))])\n",
    "    a = np.dot(W, phi_x)\n",
    "    e = a - y\n",
    "    grad_vec = np.multiply(e, phi_x)\n",
    "#     grad = np.sum(grad_vec)\n",
    "    return grad_vec\n",
    "\n",
    "grad = compute_single_grad(x_train[0], y_train[0], np.random.random_sample((2,)))\n",
    "print(grad)"
   ]
  },
  {
   "cell_type": "code",
   "execution_count": 110,
   "metadata": {},
   "outputs": [
    {
     "name": "stdout",
     "output_type": "stream",
     "text": [
      "Stochastic Gradient Descent Weights: [ 1.87958301 -2.69256162]\n",
      "Score: 0.19996515962642658 @ 5646\n"
     ]
    }
   ],
   "source": [
    "def stoch_grad_descent(data, labels, W=None, mu=0.01, record_fitting=False):\n",
    "    if W is None:\n",
    "#         W = np.random.random_sample((2,))\n",
    "        W = np.zeros((2,))\n",
    "    \n",
    "    # Begin batch gradient descent\n",
    "    stable_counter = 0\n",
    "    converge_thresh = 0.2\n",
    "    i = 0\n",
    "    training_record = []\n",
    "    while stable_counter < 10:\n",
    "#         n = randint(0, len(data)-1)\n",
    "        n = i % len(data)\n",
    "        x = data[n]\n",
    "        y = labels[n]\n",
    "        grad = compute_single_grad(x, y, W)\n",
    "        W = W - mu*grad\n",
    "        \n",
    "        objective_score = objective_func(data, labels, W)\n",
    "        if objective_score < 0.2:\n",
    "            stable_counter += 1\n",
    "        else:\n",
    "            stable_counter = 0\n",
    "#         print(f\"{i}, {x}, {y}, {objective_score}, {W}, {grad}\")\n",
    "        print(i, objective_score, end=\"\\r\")\n",
    "        training_record.append((i, x, y, objective_score, W, grad))\n",
    "        \n",
    "        if record_fitting and i%5==0:\n",
    "            predicted_y_vals = [lin_eq(x, W, poly_basis) for x in x_train]\n",
    "            fig, ax = plt.subplots(1,1)\n",
    "            ax.scatter(x_train, y_train, c='blue', marker='o')\n",
    "            ax.scatter(x_train, predicted_y_vals, c='red', marker='x')\n",
    "            fig.savefig(f\"./training_images/stoch/stoch_grad_descent_{i}.png\")\n",
    "            plt.close()\n",
    "        i += 1\n",
    "    return (W, objective_score, i, training_record)\n",
    "\n",
    "W, objective_score, iters, record = stoch_grad_descent(x_train, y_train, record_fitting=True)\n",
    "with open(\"./stoch_grad_record.csv\", \"w\") as f:\n",
    "    for r in record:\n",
    "        f.write(f\"{r[0]}, {r[1]}, {r[2]}, {r[3]}, {r[4]}, {r[5]}\\n\")\n",
    "print(f\"Stochastic Gradient Descent Weights: {W}\\nScore: {objective_score} @ {iters}\")"
   ]
  },
  {
   "cell_type": "code",
   "execution_count": 111,
   "metadata": {},
   "outputs": [
    {
     "data": {
      "text/plain": [
       "<mpl_toolkits.mplot3d.art3d.Path3DCollection at 0x7fd3288153d0>"
      ]
     },
     "execution_count": 111,
     "metadata": {},
     "output_type": "execute_result"
    },
    {
     "data": {
      "image/png": "[encoded data removed]",
      "text/plain": [
       "<Figure size 432x288 with 1 Axes>"
      ]
     },
     "metadata": {
      "needs_background": "light"
     },
     "output_type": "display_data"
    }
   ],
   "source": [
    "W0 = []\n",
    "W1 = []\n",
    "scores = []\n",
    "\n",
    "for r in record:\n",
    "    w0, w1 = r[4]\n",
    "    score = r[3]\n",
    "    W0.append(w0)\n",
    "    W1.append(w1)\n",
    "    scores.append(score)\n",
    "    \n",
    "fig = plt.figure()\n",
    "ax = Axes3D(fig)\n",
    "ax.scatter(W0, W1, scores, c=range(len(W0)))"
   ]
  },
  {
   "cell_type": "code",
   "execution_count": null,
   "metadata": {},
   "outputs": [],
   "source": []
  }
 ],
 "metadata": {
  "kernelspec": {
   "display_name": "Python 3",
   "language": "python",
   "name": "python3"
  },
  "language_info": {
   "codemirror_mode": {
    "name": "ipython",
    "version": 3
   },
   "file_extension": ".py",
   "mimetype": "text/x-python",
   "name": "python",
   "nbconvert_exporter": "python",
   "pygments_lexer": "ipython3",
   "version": "3.7.6"
  }
 },
 "nbformat": 4,
 "nbformat_minor": 2
}
